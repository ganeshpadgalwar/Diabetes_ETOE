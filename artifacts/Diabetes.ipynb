{
 "cells": [
  {
   "cell_type": "raw",
   "id": "241b9684-6789-4567-b6a7-f792a022acb1",
   "metadata": {},
   "source": [
    "Project Lifecycle :\n",
    "    1. Problem Statement\n",
    "    2. Data Gathering\n",
    "      2.1 Github repository\n",
    "      2.2 conda environment\n",
    "    3. EDA \n",
    "    4. Feature Engineering \n",
    "    5. Feature_Selection\n",
    "    6. Model_Training\n",
    "    7. Model_Evaluation\n",
    "    8. Model Dump in pickle file\n",
    "    9. Flask API for our project\n",
    "    10. Api generation\n",
    "    11. Deployment(AWS)"
   ]
  },
  {
   "cell_type": "code",
   "execution_count": 3,
   "id": "e44f4902-1179-44fe-8b3c-9464a1db17a3",
   "metadata": {},
   "outputs": [],
   "source": [
    "import pandas as pd\n",
    "import numpy as np\n",
    "\n",
    "from sklearn.linear_model import LogisticRegression\n",
    "from sklearn.model_selection import train_test_split,GridSearchCV,RandomizedSearchCV\n",
    "from sklearn.metrics import confusion_matrix,accuracy_score,classification_report\n",
    "\n",
    "import seaborn as sns \n",
    "import matplotlib.pyplot as plt\n",
    "\n",
    "import warnings\n",
    "warnings.filterwarnings(\"ignore\")"
   ]
  },
  {
   "cell_type": "markdown",
   "id": "4fd979de-a954-4287-8a7d-b6659fe8e4a9",
   "metadata": {},
   "source": [
    "### Problem Statement:"
   ]
  },
  {
   "cell_type": "raw",
   "id": "67833eba-b9d5-4b50-9fc2-a760fc7026c4",
   "metadata": {},
   "source": [
    " To Predict whether a person is Diabetes Patient or not based on medical parameters."
   ]
  },
  {
   "cell_type": "code",
   "execution_count": 4,
   "id": "0877cdff-0ff9-4c65-938f-6f5abcb6979f",
   "metadata": {},
   "outputs": [
    {
     "data": {
      "text/html": [
       "<div>\n",
       "<style scoped>\n",
       "    .dataframe tbody tr th:only-of-type {\n",
       "        vertical-align: middle;\n",
       "    }\n",
       "\n",
       "    .dataframe tbody tr th {\n",
       "        vertical-align: top;\n",
       "    }\n",
       "\n",
       "    .dataframe thead th {\n",
       "        text-align: right;\n",
       "    }\n",
       "</style>\n",
       "<table border=\"1\" class=\"dataframe\">\n",
       "  <thead>\n",
       "    <tr style=\"text-align: right;\">\n",
       "      <th></th>\n",
       "      <th>Pregnancies</th>\n",
       "      <th>Glucose</th>\n",
       "      <th>BloodPressure</th>\n",
       "      <th>SkinThickness</th>\n",
       "      <th>Insulin</th>\n",
       "      <th>BMI</th>\n",
       "      <th>DiabetesPedigreeFunction</th>\n",
       "      <th>Age</th>\n",
       "      <th>Outcome</th>\n",
       "    </tr>\n",
       "  </thead>\n",
       "  <tbody>\n",
       "    <tr>\n",
       "      <th>0</th>\n",
       "      <td>6</td>\n",
       "      <td>148</td>\n",
       "      <td>500</td>\n",
       "      <td>35</td>\n",
       "      <td>0</td>\n",
       "      <td>33.6</td>\n",
       "      <td>0.627</td>\n",
       "      <td>50</td>\n",
       "      <td>1</td>\n",
       "    </tr>\n",
       "    <tr>\n",
       "      <th>1</th>\n",
       "      <td>1</td>\n",
       "      <td>85</td>\n",
       "      <td>66</td>\n",
       "      <td>29</td>\n",
       "      <td>0</td>\n",
       "      <td>26.6</td>\n",
       "      <td>0.351</td>\n",
       "      <td>31</td>\n",
       "      <td>0</td>\n",
       "    </tr>\n",
       "    <tr>\n",
       "      <th>2</th>\n",
       "      <td>8</td>\n",
       "      <td>183</td>\n",
       "      <td>64</td>\n",
       "      <td>0</td>\n",
       "      <td>0</td>\n",
       "      <td>23.3</td>\n",
       "      <td>0.672</td>\n",
       "      <td>102</td>\n",
       "      <td>1</td>\n",
       "    </tr>\n",
       "    <tr>\n",
       "      <th>3</th>\n",
       "      <td>1</td>\n",
       "      <td>89</td>\n",
       "      <td>66</td>\n",
       "      <td>23</td>\n",
       "      <td>94</td>\n",
       "      <td>28.1</td>\n",
       "      <td>0.167</td>\n",
       "      <td>21</td>\n",
       "      <td>0</td>\n",
       "    </tr>\n",
       "    <tr>\n",
       "      <th>4</th>\n",
       "      <td>0</td>\n",
       "      <td>137</td>\n",
       "      <td>40</td>\n",
       "      <td>35</td>\n",
       "      <td>168</td>\n",
       "      <td>43.1</td>\n",
       "      <td>2.288</td>\n",
       "      <td>33</td>\n",
       "      <td>1</td>\n",
       "    </tr>\n",
       "    <tr>\n",
       "      <th>...</th>\n",
       "      <td>...</td>\n",
       "      <td>...</td>\n",
       "      <td>...</td>\n",
       "      <td>...</td>\n",
       "      <td>...</td>\n",
       "      <td>...</td>\n",
       "      <td>...</td>\n",
       "      <td>...</td>\n",
       "      <td>...</td>\n",
       "    </tr>\n",
       "    <tr>\n",
       "      <th>763</th>\n",
       "      <td>10</td>\n",
       "      <td>101</td>\n",
       "      <td>76</td>\n",
       "      <td>48</td>\n",
       "      <td>180</td>\n",
       "      <td>32.9</td>\n",
       "      <td>0.171</td>\n",
       "      <td>63</td>\n",
       "      <td>0</td>\n",
       "    </tr>\n",
       "    <tr>\n",
       "      <th>764</th>\n",
       "      <td>2</td>\n",
       "      <td>122</td>\n",
       "      <td>70</td>\n",
       "      <td>27</td>\n",
       "      <td>0</td>\n",
       "      <td>36.8</td>\n",
       "      <td>0.340</td>\n",
       "      <td>27</td>\n",
       "      <td>0</td>\n",
       "    </tr>\n",
       "    <tr>\n",
       "      <th>765</th>\n",
       "      <td>5</td>\n",
       "      <td>121</td>\n",
       "      <td>72</td>\n",
       "      <td>23</td>\n",
       "      <td>112</td>\n",
       "      <td>26.2</td>\n",
       "      <td>0.245</td>\n",
       "      <td>30</td>\n",
       "      <td>0</td>\n",
       "    </tr>\n",
       "    <tr>\n",
       "      <th>766</th>\n",
       "      <td>1</td>\n",
       "      <td>126</td>\n",
       "      <td>60</td>\n",
       "      <td>0</td>\n",
       "      <td>0</td>\n",
       "      <td>30.1</td>\n",
       "      <td>0.349</td>\n",
       "      <td>47</td>\n",
       "      <td>1</td>\n",
       "    </tr>\n",
       "    <tr>\n",
       "      <th>767</th>\n",
       "      <td>1</td>\n",
       "      <td>93</td>\n",
       "      <td>70</td>\n",
       "      <td>31</td>\n",
       "      <td>0</td>\n",
       "      <td>30.4</td>\n",
       "      <td>0.315</td>\n",
       "      <td>23</td>\n",
       "      <td>0</td>\n",
       "    </tr>\n",
       "  </tbody>\n",
       "</table>\n",
       "<p>768 rows × 9 columns</p>\n",
       "</div>"
      ],
      "text/plain": [
       "     Pregnancies  Glucose  BloodPressure  SkinThickness  Insulin   BMI  \\\n",
       "0              6      148            500             35        0  33.6   \n",
       "1              1       85             66             29        0  26.6   \n",
       "2              8      183             64              0        0  23.3   \n",
       "3              1       89             66             23       94  28.1   \n",
       "4              0      137             40             35      168  43.1   \n",
       "..           ...      ...            ...            ...      ...   ...   \n",
       "763           10      101             76             48      180  32.9   \n",
       "764            2      122             70             27        0  36.8   \n",
       "765            5      121             72             23      112  26.2   \n",
       "766            1      126             60              0        0  30.1   \n",
       "767            1       93             70             31        0  30.4   \n",
       "\n",
       "     DiabetesPedigreeFunction  Age  Outcome  \n",
       "0                       0.627   50        1  \n",
       "1                       0.351   31        0  \n",
       "2                       0.672  102        1  \n",
       "3                       0.167   21        0  \n",
       "4                       2.288   33        1  \n",
       "..                        ...  ...      ...  \n",
       "763                     0.171   63        0  \n",
       "764                     0.340   27        0  \n",
       "765                     0.245   30        0  \n",
       "766                     0.349   47        1  \n",
       "767                     0.315   23        0  \n",
       "\n",
       "[768 rows x 9 columns]"
      ]
     },
     "execution_count": 4,
     "metadata": {},
     "output_type": "execute_result"
    }
   ],
   "source": [
    "df = pd.read_csv(\"diabetes.csv\")\n",
    "df"
   ]
  },
  {
   "cell_type": "markdown",
   "id": "a41f7300-3d87-464c-824c-85fa1c0d445f",
   "metadata": {},
   "source": [
    "### EDA + Feature Engg."
   ]
  },
  {
   "cell_type": "code",
   "execution_count": 5,
   "id": "c7b8d481-8b2f-431e-bb10-f071ca0a6f58",
   "metadata": {},
   "outputs": [
    {
     "data": {
      "text/plain": [
       "(768, 9)"
      ]
     },
     "execution_count": 5,
     "metadata": {},
     "output_type": "execute_result"
    }
   ],
   "source": [
    "df.shape"
   ]
  },
  {
   "cell_type": "code",
   "execution_count": 6,
   "id": "dda1cd10-6730-44ef-bc0f-8b58f6b02e25",
   "metadata": {},
   "outputs": [
    {
     "name": "stdout",
     "output_type": "stream",
     "text": [
      "<class 'pandas.core.frame.DataFrame'>\n",
      "RangeIndex: 768 entries, 0 to 767\n",
      "Data columns (total 9 columns):\n",
      " #   Column                    Non-Null Count  Dtype  \n",
      "---  ------                    --------------  -----  \n",
      " 0   Pregnancies               768 non-null    int64  \n",
      " 1   Glucose                   768 non-null    int64  \n",
      " 2   BloodPressure             768 non-null    int64  \n",
      " 3   SkinThickness             768 non-null    int64  \n",
      " 4   Insulin                   768 non-null    int64  \n",
      " 5   BMI                       768 non-null    float64\n",
      " 6   DiabetesPedigreeFunction  768 non-null    float64\n",
      " 7   Age                       768 non-null    int64  \n",
      " 8   Outcome                   768 non-null    int64  \n",
      "dtypes: float64(2), int64(7)\n",
      "memory usage: 54.1 KB\n"
     ]
    }
   ],
   "source": [
    "df.info()"
   ]
  },
  {
   "cell_type": "code",
   "execution_count": 7,
   "id": "efcbb578-2667-46f6-8cd1-4c9dbee80314",
   "metadata": {},
   "outputs": [
    {
     "data": {
      "text/plain": [
       "Pregnancies                 0.0\n",
       "Glucose                     0.0\n",
       "BloodPressure               0.0\n",
       "SkinThickness               0.0\n",
       "Insulin                     0.0\n",
       "BMI                         0.0\n",
       "DiabetesPedigreeFunction    0.0\n",
       "Age                         0.0\n",
       "Outcome                     0.0\n",
       "dtype: float64"
      ]
     },
     "execution_count": 7,
     "metadata": {},
     "output_type": "execute_result"
    }
   ],
   "source": [
    "df.isna().mean()*100"
   ]
  },
  {
   "cell_type": "code",
   "execution_count": 8,
   "id": "fa95187f-2652-44c1-8f12-44de2ac35451",
   "metadata": {},
   "outputs": [
    {
     "data": {
      "text/plain": [
       "<AxesSubplot:>"
      ]
     },
     "execution_count": 8,
     "metadata": {},
     "output_type": "execute_result"
    },
    {
     "data": {
      "image/png": "[encoded data removed]",
      "text/plain": [
       "<Figure size 1008x360 with 1 Axes>"
      ]
     },
     "metadata": {
      "needs_background": "light"
     },
     "output_type": "display_data"
    }
   ],
   "source": [
    "plt.figure(figsize=(14,5))\n",
    "df.boxplot()"
   ]
  },
  {
   "cell_type": "markdown",
   "id": "d9467b72-43ab-414c-9a7c-50645b4cb04c",
   "metadata": {},
   "source": [
    "## 1.Pregnancies"
   ]
  },
  {
   "cell_type": "code",
   "execution_count": 9,
   "id": "f668435c-ff13-48aa-9749-9842d99c94c8",
   "metadata": {},
   "outputs": [
    {
     "data": {
      "text/plain": [
       "1     135\n",
       "0     111\n",
       "2     103\n",
       "3      75\n",
       "4      68\n",
       "5      57\n",
       "6      50\n",
       "7      45\n",
       "8      38\n",
       "9      28\n",
       "10     24\n",
       "11     11\n",
       "13     10\n",
       "12      9\n",
       "14      2\n",
       "15      1\n",
       "17      1\n",
       "Name: Pregnancies, dtype: int64"
      ]
     },
     "execution_count": 9,
     "metadata": {},
     "output_type": "execute_result"
    }
   ],
   "source": [
    "df[\"Pregnancies\"].value_counts()"
   ]
  },
  {
   "cell_type": "code",
   "execution_count": 10,
   "id": "ba9a7a76-b1f9-4b20-aa24-4e9fcf6c517d",
   "metadata": {},
   "outputs": [],
   "source": [
    "a = df[\"Pregnancies\"].unique()"
   ]
  },
  {
   "cell_type": "code",
   "execution_count": 11,
   "id": "8854a74f-353b-4f2e-b5a0-3c43ed135277",
   "metadata": {},
   "outputs": [
    {
     "data": {
      "text/plain": [
       "<AxesSubplot:>"
      ]
     },
     "execution_count": 11,
     "metadata": {},
     "output_type": "execute_result"
    },
    {
     "data": {
      "image/png": "[encoded data removed]",
      "text/plain": [
       "<Figure size 432x288 with 1 Axes>"
      ]
     },
     "metadata": {
      "needs_background": "light"
     },
     "output_type": "display_data"
    }
   ],
   "source": [
    "df[[\"Pregnancies\"]].boxplot()"
   ]
  },
  {
   "cell_type": "code",
   "execution_count": 12,
   "id": "05f35ded-83b8-400e-92ed-411771411d6b",
   "metadata": {},
   "outputs": [
    {
     "data": {
      "text/plain": [
       "<AxesSubplot:xlabel='Pregnancies'>"
      ]
     },
     "execution_count": 12,
     "metadata": {},
     "output_type": "execute_result"
    },
    {
     "data": {
      "image/png": "[encoded data removed]",
      "text/plain": [
       "<Figure size 432x288 with 1 Axes>"
      ]
     },
     "metadata": {
      "needs_background": "light"
     },
     "output_type": "display_data"
    }
   ],
   "source": [
    "sns.boxplot(df[\"Pregnancies\"])"
   ]
  },
  {
   "cell_type": "code",
   "execution_count": 13,
   "id": "873ce402-cb9a-42ad-9777-bb14a1241d55",
   "metadata": {},
   "outputs": [
    {
     "data": {
      "text/plain": [
       "28     13\n",
       "72     13\n",
       "86     13\n",
       "88     15\n",
       "159    17\n",
       "274    13\n",
       "298    14\n",
       "323    13\n",
       "357    13\n",
       "455    14\n",
       "518    13\n",
       "635    13\n",
       "691    13\n",
       "744    13\n",
       "Name: Pregnancies, dtype: int64"
      ]
     },
     "execution_count": 13,
     "metadata": {},
     "output_type": "execute_result"
    }
   ],
   "source": [
    "df[\"Pregnancies\"].loc[df[\"Pregnancies\"]>12.5]"
   ]
  },
  {
   "cell_type": "code",
   "execution_count": 14,
   "id": "92d509ff-9183-4820-ac84-a7f174853cb8",
   "metadata": {},
   "outputs": [
    {
     "data": {
      "text/plain": [
       "3.6644562334217508"
      ]
     },
     "execution_count": 14,
     "metadata": {},
     "output_type": "execute_result"
    }
   ],
   "source": [
    "df[\"Pregnancies\"].loc[df[\"Pregnancies\"]<12.5].mean()"
   ]
  },
  {
   "cell_type": "code",
   "execution_count": 15,
   "id": "508e7501-064c-47cf-a2e1-5655629be3d0",
   "metadata": {},
   "outputs": [
    {
     "data": {
      "text/plain": [
       "3.0"
      ]
     },
     "execution_count": 15,
     "metadata": {},
     "output_type": "execute_result"
    }
   ],
   "source": [
    "df[\"Pregnancies\"].loc[df[\"Pregnancies\"]<12.5].median()    # check how to fill outlier"
   ]
  },
  {
   "cell_type": "markdown",
   "id": "bc29195c-ab79-42db-a0da-6a1b05fc632a",
   "metadata": {},
   "source": [
    "### 2.Glucose"
   ]
  },
  {
   "cell_type": "code",
   "execution_count": 16,
   "id": "42027aac-18b2-42e2-98e6-dc1b01f72e5e",
   "metadata": {},
   "outputs": [
    {
     "data": {
      "text/plain": [
       "137"
      ]
     },
     "execution_count": 16,
     "metadata": {},
     "output_type": "execute_result"
    }
   ],
   "source": [
    "df[\"Glucose\"].nunique()"
   ]
  },
  {
   "cell_type": "markdown",
   "id": "6a548c12-0757-49b6-84b8-5a3c22ec4b91",
   "metadata": {},
   "source": [
    "### 3.BloodPressure"
   ]
  },
  {
   "cell_type": "code",
   "execution_count": 17,
   "id": "cb0ce77a-1f69-4ec9-b16f-50e9a79e1f85",
   "metadata": {},
   "outputs": [
    {
     "data": {
      "text/plain": [
       "48"
      ]
     },
     "execution_count": 17,
     "metadata": {},
     "output_type": "execute_result"
    }
   ],
   "source": [
    "df[\"BloodPressure\"].nunique()"
   ]
  },
  {
   "cell_type": "markdown",
   "id": "88c07f08-9435-4165-b776-3a5d46ec0555",
   "metadata": {},
   "source": [
    "### 4.SkinThickness "
   ]
  },
  {
   "cell_type": "code",
   "execution_count": 18,
   "id": "53c44284-f454-4b98-b2af-edd54124eeac",
   "metadata": {},
   "outputs": [
    {
     "data": {
      "text/plain": [
       "51"
      ]
     },
     "execution_count": 18,
     "metadata": {},
     "output_type": "execute_result"
    }
   ],
   "source": [
    "df[\"SkinThickness\"].nunique()"
   ]
  },
  {
   "cell_type": "markdown",
   "id": "7634b0d2-f7de-4449-aced-ccb9a9567370",
   "metadata": {},
   "source": [
    "### 5.Insulin"
   ]
  },
  {
   "cell_type": "code",
   "execution_count": 19,
   "id": "ebe9c6f0-1553-46b0-b052-48c310435126",
   "metadata": {},
   "outputs": [
    {
     "data": {
      "text/plain": [
       "186"
      ]
     },
     "execution_count": 19,
     "metadata": {},
     "output_type": "execute_result"
    }
   ],
   "source": [
    "df[\"Insulin\"].nunique()"
   ]
  },
  {
   "cell_type": "markdown",
   "id": "7e8b5b31-5a7b-43f5-837b-24e96dae33c2",
   "metadata": {},
   "source": [
    "### 6.BMI"
   ]
  },
  {
   "cell_type": "code",
   "execution_count": 20,
   "id": "022e5e89-4a46-474a-a9db-7fe552ff2d16",
   "metadata": {},
   "outputs": [
    {
     "data": {
      "text/plain": [
       "248"
      ]
     },
     "execution_count": 20,
     "metadata": {},
     "output_type": "execute_result"
    }
   ],
   "source": [
    "df[\"BMI\"].nunique()"
   ]
  },
  {
   "cell_type": "markdown",
   "id": "f4cf4320-8d6f-4deb-b5d0-24b9ac47cb59",
   "metadata": {},
   "source": [
    "### 7.DiabetesPedigreeFunction"
   ]
  },
  {
   "cell_type": "code",
   "execution_count": 21,
   "id": "2f7700f8-7b90-4eee-9d43-248a569b1539",
   "metadata": {},
   "outputs": [
    {
     "data": {
      "text/plain": [
       "517"
      ]
     },
     "execution_count": 21,
     "metadata": {},
     "output_type": "execute_result"
    }
   ],
   "source": [
    "df[\"DiabetesPedigreeFunction\"].nunique()"
   ]
  },
  {
   "cell_type": "markdown",
   "id": "72f8b495-27a1-4710-892c-d58b8129f697",
   "metadata": {},
   "source": [
    "### 8.Age"
   ]
  },
  {
   "cell_type": "code",
   "execution_count": 22,
   "id": "a601331e-246b-4127-b4ac-dac13989afbd",
   "metadata": {},
   "outputs": [
    {
     "data": {
      "text/plain": [
       "53"
      ]
     },
     "execution_count": 22,
     "metadata": {},
     "output_type": "execute_result"
    }
   ],
   "source": [
    "df[\"Age\"].nunique()"
   ]
  },
  {
   "cell_type": "markdown",
   "id": "445f10f9-b869-41a3-a08f-59be3fff93ed",
   "metadata": {},
   "source": [
    "### 9.Outcome "
   ]
  },
  {
   "cell_type": "code",
   "execution_count": 23,
   "id": "57334a11-59bb-484d-99cd-696c41b96878",
   "metadata": {},
   "outputs": [
    {
     "data": {
      "text/plain": [
       "2"
      ]
     },
     "execution_count": 23,
     "metadata": {},
     "output_type": "execute_result"
    }
   ],
   "source": [
    "df[\"Outcome\"].nunique()"
   ]
  },
  {
   "cell_type": "markdown",
   "id": "311084e1-5343-4410-9c8a-f04533013758",
   "metadata": {},
   "source": [
    "### Feature_Selection"
   ]
  },
  {
   "cell_type": "code",
   "execution_count": null,
   "id": "dbbf2759-af28-4f91-8557-9c6a721d3ea5",
   "metadata": {},
   "outputs": [],
   "source": []
  },
  {
   "cell_type": "markdown",
   "id": "7ce52add-9c6d-4c20-95a5-568f9ac1cf50",
   "metadata": {},
   "source": [
    "### Model training"
   ]
  },
  {
   "cell_type": "code",
   "execution_count": 24,
   "id": "b430eb13-49ab-4ab0-92ca-1dc6a7da79ba",
   "metadata": {},
   "outputs": [],
   "source": [
    "# X,Y data seperation\n",
    "x = df.drop(\"Outcome\",axis=1)\n",
    "y = df[\"Outcome\"]\n",
    "# train test split\n",
    "x_train,x_test,y_train,y_test = train_test_split(x,y,test_size=0.2,random_state=12,stratify=y)"
   ]
  },
  {
   "cell_type": "code",
   "execution_count": 25,
   "id": "d5ae1ba7-cd86-4aeb-baed-d21fa746f366",
   "metadata": {},
   "outputs": [
    {
     "data": {
      "text/plain": [
       "LogisticRegression()"
      ]
     },
     "execution_count": 25,
     "metadata": {},
     "output_type": "execute_result"
    }
   ],
   "source": [
    "log_model = LogisticRegression()\n",
    "log_model.fit(x_train,y_train)"
   ]
  },
  {
   "cell_type": "markdown",
   "id": "b8f54ac2-de26-4987-af8c-3f8a6055190e",
   "metadata": {},
   "source": [
    "### Model Evaluation"
   ]
  },
  {
   "cell_type": "code",
   "execution_count": 26,
   "id": "936164e1-aaa0-4626-b683-7d0b932f0947",
   "metadata": {},
   "outputs": [
    {
     "name": "stdout",
     "output_type": "stream",
     "text": [
      "acc 0.7467532467532467\n",
      "cnf_matrix :\n",
      " [[87 26]\n",
      " [13 28]]\n",
      "cls_report :\n",
      "               precision    recall  f1-score   support\n",
      "\n",
      "           0       0.87      0.77      0.82       113\n",
      "           1       0.52      0.68      0.59        41\n",
      "\n",
      "    accuracy                           0.75       154\n",
      "   macro avg       0.69      0.73      0.70       154\n",
      "weighted avg       0.78      0.75      0.76       154\n",
      "\n"
     ]
    }
   ],
   "source": [
    "# test data evaluation\n",
    "y_test_predict = log_model.predict(x_test)\n",
    "acc = accuracy_score(y_test_predict,y_test)\n",
    "print(\"acc\",acc)\n",
    "cnf_matrix = confusion_matrix(y_test_predict,y_test)\n",
    "print(\"cnf_matrix :\\n\",cnf_matrix)\n",
    "cls_report = classification_report(y_test_predict,y_test)\n",
    "print(\"cls_report :\\n\",cls_report)"
   ]
  },
  {
   "cell_type": "code",
   "execution_count": 27,
   "id": "d81de7e3-e7a5-42a0-8c9a-0eb2e26e1c2a",
   "metadata": {},
   "outputs": [
    {
     "name": "stdout",
     "output_type": "stream",
     "text": [
      "acc 0.7638436482084691\n",
      "cnf_matrix :\n",
      " [[357 102]\n",
      " [ 43 112]]\n",
      "cls_report :\n",
      "               precision    recall  f1-score   support\n",
      "\n",
      "           0       0.89      0.78      0.83       459\n",
      "           1       0.52      0.72      0.61       155\n",
      "\n",
      "    accuracy                           0.76       614\n",
      "   macro avg       0.71      0.75      0.72       614\n",
      "weighted avg       0.80      0.76      0.77       614\n",
      "\n"
     ]
    }
   ],
   "source": [
    "# training data evaluation\n",
    "y_train_predict = log_model.predict(x_train)\n",
    "acc = accuracy_score(y_train_predict,y_train)\n",
    "print(\"acc\",acc)\n",
    "cnf_matrix = confusion_matrix(y_train_predict,y_train)\n",
    "print(\"cnf_matrix :\\n\",cnf_matrix)\n",
    "cls_report = classification_report(y_train_predict,y_train)\n",
    "print(\"cls_report :\\n\",cls_report)"
   ]
  },
  {
   "cell_type": "code",
   "execution_count": 28,
   "id": "81c80a97-5a46-4e7b-82e1-9c2f3cd1e350",
   "metadata": {},
   "outputs": [
    {
     "name": "stdout",
     "output_type": "stream",
     "text": [
      "<class 'pandas.core.frame.DataFrame'>\n",
      "RangeIndex: 768 entries, 0 to 767\n",
      "Data columns (total 9 columns):\n",
      " #   Column                    Non-Null Count  Dtype  \n",
      "---  ------                    --------------  -----  \n",
      " 0   Pregnancies               768 non-null    int64  \n",
      " 1   Glucose                   768 non-null    int64  \n",
      " 2   BloodPressure             768 non-null    int64  \n",
      " 3   SkinThickness             768 non-null    int64  \n",
      " 4   Insulin                   768 non-null    int64  \n",
      " 5   BMI                       768 non-null    float64\n",
      " 6   DiabetesPedigreeFunction  768 non-null    float64\n",
      " 7   Age                       768 non-null    int64  \n",
      " 8   Outcome                   768 non-null    int64  \n",
      "dtypes: float64(2), int64(7)\n",
      "memory usage: 54.1 KB\n"
     ]
    }
   ],
   "source": [
    "df.info()"
   ]
  },
  {
   "cell_type": "markdown",
   "id": "d62f7dce-ad68-40a7-a396-619af851b658",
   "metadata": {},
   "source": [
    "### Model Dump"
   ]
  },
  {
   "cell_type": "code",
   "execution_count": 29,
   "id": "55e6e030-f7fb-4715-aa2c-e032f0049b10",
   "metadata": {},
   "outputs": [],
   "source": [
    "import pickle\n",
    "pickle.dump(log_model,open(\"model.pkl\",\"wb\"))"
   ]
  },
  {
   "cell_type": "code",
   "execution_count": 30,
   "id": "63e41065-a373-420c-aad1-77d2390e43e7",
   "metadata": {},
   "outputs": [
    {
     "data": {
      "text/plain": [
       "Index(['Pregnancies', 'Glucose', 'BloodPressure', 'SkinThickness', 'Insulin',\n",
       "       'BMI', 'DiabetesPedigreeFunction', 'Age', 'Outcome'],\n",
       "      dtype='object')"
      ]
     },
     "execution_count": 30,
     "metadata": {},
     "output_type": "execute_result"
    }
   ],
   "source": [
    "df.columns"
   ]
  },
  {
   "cell_type": "code",
   "execution_count": 31,
   "id": "378e4420-8028-48bc-82f3-c8eaabb6495c",
   "metadata": {},
   "outputs": [],
   "source": [
    "## \n",
    "# Pregnancies = int(input())\n",
    "# Glucose = int(input())\n",
    "# BloodPressure = int(input())\n",
    "# SkinThickness = int(input())\n",
    "# Insulin = int(input())\n",
    "# BMI = float(input())\n",
    "# DiabetesPedigreeFunction = float(input())\n",
    "# Age = int(input())\n",
    "\n",
    "# result = log_model.predict([[Pregnancies,Glucose,BloodPressure,SkinThickness,Insulin,BMI,DiabetesPedigreeFunction,Age]])\n",
    "\n",
    "# result[0]"
   ]
  },
  {
   "cell_type": "code",
   "execution_count": null,
   "id": "eb2dd749-a5bd-44e0-9a1e-ce0dfebe388c",
   "metadata": {},
   "outputs": [],
   "source": []
  },
  {
   "cell_type": "code",
   "execution_count": null,
   "id": "92bd1800-c379-4756-ba08-2dfe92f3d734",
   "metadata": {},
   "outputs": [],
   "source": []
  },
  {
   "cell_type": "code",
   "execution_count": null,
   "id": "bdbf3825-93db-43fe-bbd0-fa1795883b30",
   "metadata": {},
   "outputs": [],
   "source": []
  },
  {
   "cell_type": "code",
   "execution_count": null,
   "id": "f7284052-b54f-46c9-b5af-b67b833fd670",
   "metadata": {},
   "outputs": [],
   "source": []
  },
  {
   "cell_type": "code",
   "execution_count": null,
   "id": "c396f42f-321d-4c15-8712-43d2af718d13",
   "metadata": {},
   "outputs": [],
   "source": []
  }
 ],
 "metadata": {
  "kernelspec": {
   "display_name": "diabetes_conda",
   "language": "python",
   "name": "diabetes_conda"
  },
  "language_info": {
   "codemirror_mode": {
    "name": "ipython",
    "version": 3
   },
   "file_extension": ".py",
   "mimetype": "text/x-python",
   "name": "python",
   "nbconvert_exporter": "python",
   "pygments_lexer": "ipython3",
   "version": "3.9.12"
  }
 },
 "nbformat": 4,
 "nbformat_minor": 5
}
